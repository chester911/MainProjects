{
 "cells": [
  {
   "cell_type": "markdown",
   "metadata": {},
   "source": [
    "# 허리디스크 (추간판 탈출증) 환자 현황 분석"
   ]
  },
  {
   "cell_type": "markdown",
   "metadata": {},
   "source": [
    "## 데이터 출처\n",
    "* https://www.data.go.kr/data/15089587/fileData.do\n",
    "* 추간판 탈출증 질병 코드 M51만 사용"
   ]
  },
  {
   "cell_type": "markdown",
   "metadata": {},
   "source": [
    "## 라이브러리, 데이터 Import"
   ]
  },
  {
   "cell_type": "code",
   "execution_count": 2,
   "metadata": {},
   "outputs": [
    {
     "name": "stdout",
     "output_type": "stream",
     "text": [
      "(26718, 8) (26782, 8) (26820, 8)\n"
     ]
    }
   ],
   "source": [
    "import pandas as pd\n",
    "import seaborn as sns\n",
    "import matplotlib.pyplot as plt\n",
    "import warnings\n",
    "\n",
    "warnings.filterwarnings('ignore')\n",
    "pd.set_option('display.max_columns', 100)\n",
    "\n",
    "plt.rc('font', family= 'Malgun Gothic')\n",
    "\n",
    "lb_2018= pd.read_csv('건강보험심사평가원_3단상병별 시도별 건강보험 진료 통계 2018.csv', encoding= 'CP949')\n",
    "lb_2019= pd.read_csv('건강보험심사평가원_3단상병별 시도별 건강보험 진료 통계 2019.csv', encoding= 'CP949')\n",
    "lb_2020= pd.read_csv('건강보험심사평가원_3단상병별 시도별 건강보험 진료 통계 2020.csv', encoding= 'CP949')\n",
    "\n",
    "print(lb_2018.shape, lb_2019.shape, lb_2020.shape)"
   ]
  },
  {
   "cell_type": "markdown",
   "metadata": {},
   "source": [
    "### 허리디스크 데이터만 추출\n",
    "* 주상병코드 == M51"
   ]
  },
  {
   "cell_type": "code",
   "execution_count": 3,
   "metadata": {},
   "outputs": [
    {
     "data": {
      "text/html": [
       "<div>\n",
       "<style scoped>\n",
       "    .dataframe tbody tr th:only-of-type {\n",
       "        vertical-align: middle;\n",
       "    }\n",
       "\n",
       "    .dataframe tbody tr th {\n",
       "        vertical-align: top;\n",
       "    }\n",
       "\n",
       "    .dataframe thead th {\n",
       "        text-align: right;\n",
       "    }\n",
       "</style>\n",
       "<table border=\"1\" class=\"dataframe\">\n",
       "  <thead>\n",
       "    <tr style=\"text-align: right;\">\n",
       "      <th></th>\n",
       "      <th>진료년도</th>\n",
       "      <th>주상병코드</th>\n",
       "      <th>시도 구분</th>\n",
       "      <th>환자수</th>\n",
       "      <th>명세서 청구건수</th>\n",
       "      <th>입내원일수</th>\n",
       "      <th>요양급여비용총액</th>\n",
       "      <th>보험자부담금</th>\n",
       "    </tr>\n",
       "  </thead>\n",
       "  <tbody>\n",
       "    <tr>\n",
       "      <th>0</th>\n",
       "      <td>2018</td>\n",
       "      <td>A00</td>\n",
       "      <td>서울</td>\n",
       "      <td>19</td>\n",
       "      <td>21</td>\n",
       "      <td>29</td>\n",
       "      <td>2057360</td>\n",
       "      <td>1618160</td>\n",
       "    </tr>\n",
       "    <tr>\n",
       "      <th>1</th>\n",
       "      <td>2018</td>\n",
       "      <td>A00</td>\n",
       "      <td>부산</td>\n",
       "      <td>7</td>\n",
       "      <td>7</td>\n",
       "      <td>39</td>\n",
       "      <td>8536620</td>\n",
       "      <td>6966680</td>\n",
       "    </tr>\n",
       "    <tr>\n",
       "      <th>2</th>\n",
       "      <td>2018</td>\n",
       "      <td>A00</td>\n",
       "      <td>인천</td>\n",
       "      <td>8</td>\n",
       "      <td>8</td>\n",
       "      <td>10</td>\n",
       "      <td>1104810</td>\n",
       "      <td>806590</td>\n",
       "    </tr>\n",
       "    <tr>\n",
       "      <th>3</th>\n",
       "      <td>2018</td>\n",
       "      <td>A00</td>\n",
       "      <td>대구</td>\n",
       "      <td>2</td>\n",
       "      <td>2</td>\n",
       "      <td>5</td>\n",
       "      <td>750470</td>\n",
       "      <td>628960</td>\n",
       "    </tr>\n",
       "    <tr>\n",
       "      <th>4</th>\n",
       "      <td>2018</td>\n",
       "      <td>A00</td>\n",
       "      <td>광주</td>\n",
       "      <td>4</td>\n",
       "      <td>4</td>\n",
       "      <td>4</td>\n",
       "      <td>105160</td>\n",
       "      <td>68460</td>\n",
       "    </tr>\n",
       "  </tbody>\n",
       "</table>\n",
       "</div>"
      ],
      "text/plain": [
       "   진료년도 주상병코드 시도 구분  환자수  명세서 청구건수  입내원일수  요양급여비용총액   보험자부담금\n",
       "0  2018   A00    서울   19        21     29   2057360  1618160\n",
       "1  2018   A00    부산    7         7     39   8536620  6966680\n",
       "2  2018   A00    인천    8         8     10   1104810   806590\n",
       "3  2018   A00    대구    2         2      5    750470   628960\n",
       "4  2018   A00    광주    4         4      4    105160    68460"
      ]
     },
     "execution_count": 3,
     "metadata": {},
     "output_type": "execute_result"
    }
   ],
   "source": [
    "lb_2018.head()"
   ]
  },
  {
   "cell_type": "code",
   "execution_count": 4,
   "metadata": {},
   "outputs": [
    {
     "name": "stdout",
     "output_type": "stream",
     "text": [
      "(17, 8) (17, 8) (17, 8)\n"
     ]
    }
   ],
   "source": [
    "lb_2018= lb_2018[lb_2018['주상병코드']== 'M51']\n",
    "lb_2019= lb_2019[lb_2019['주상병코드']== 'M51']\n",
    "lb_2020= lb_2020[lb_2020['주상병코드']== 'M51']\n",
    "\n",
    "print(lb_2018.shape, lb_2019.shape, lb_2020.shape)"
   ]
  },
  {
   "cell_type": "markdown",
   "metadata": {},
   "source": [
    "### 2018~2020년 데이터 통합"
   ]
  },
  {
   "cell_type": "code",
   "execution_count": 5,
   "metadata": {},
   "outputs": [
    {
     "data": {
      "text/plain": [
       "(51, 8)"
      ]
     },
     "execution_count": 5,
     "metadata": {},
     "output_type": "execute_result"
    }
   ],
   "source": [
    "lb= pd.concat([lb_2018, lb_2019, lb_2020])\n",
    "lb.shape"
   ]
  },
  {
   "cell_type": "code",
   "execution_count": 6,
   "metadata": {},
   "outputs": [
    {
     "data": {
      "text/html": [
       "<div>\n",
       "<style scoped>\n",
       "    .dataframe tbody tr th:only-of-type {\n",
       "        vertical-align: middle;\n",
       "    }\n",
       "\n",
       "    .dataframe tbody tr th {\n",
       "        vertical-align: top;\n",
       "    }\n",
       "\n",
       "    .dataframe thead th {\n",
       "        text-align: right;\n",
       "    }\n",
       "</style>\n",
       "<table border=\"1\" class=\"dataframe\">\n",
       "  <thead>\n",
       "    <tr style=\"text-align: right;\">\n",
       "      <th></th>\n",
       "      <th>진료년도</th>\n",
       "      <th>주상병코드</th>\n",
       "      <th>시도 구분</th>\n",
       "      <th>환자수</th>\n",
       "      <th>명세서 청구건수</th>\n",
       "      <th>입내원일수</th>\n",
       "      <th>요양급여비용총액</th>\n",
       "      <th>보험자부담금</th>\n",
       "    </tr>\n",
       "  </thead>\n",
       "  <tbody>\n",
       "    <tr>\n",
       "      <th>15256</th>\n",
       "      <td>2018</td>\n",
       "      <td>M51</td>\n",
       "      <td>서울</td>\n",
       "      <td>405055</td>\n",
       "      <td>2014737</td>\n",
       "      <td>2274238</td>\n",
       "      <td>124302244910</td>\n",
       "      <td>87928411830</td>\n",
       "    </tr>\n",
       "    <tr>\n",
       "      <th>15257</th>\n",
       "      <td>2018</td>\n",
       "      <td>M51</td>\n",
       "      <td>부산</td>\n",
       "      <td>136177</td>\n",
       "      <td>703310</td>\n",
       "      <td>853286</td>\n",
       "      <td>49253687170</td>\n",
       "      <td>35530141100</td>\n",
       "    </tr>\n",
       "    <tr>\n",
       "      <th>15258</th>\n",
       "      <td>2018</td>\n",
       "      <td>M51</td>\n",
       "      <td>인천</td>\n",
       "      <td>125169</td>\n",
       "      <td>648994</td>\n",
       "      <td>778332</td>\n",
       "      <td>43590701320</td>\n",
       "      <td>31219070800</td>\n",
       "    </tr>\n",
       "    <tr>\n",
       "      <th>15259</th>\n",
       "      <td>2018</td>\n",
       "      <td>M51</td>\n",
       "      <td>대구</td>\n",
       "      <td>110562</td>\n",
       "      <td>502747</td>\n",
       "      <td>578597</td>\n",
       "      <td>34858401620</td>\n",
       "      <td>24695342440</td>\n",
       "    </tr>\n",
       "    <tr>\n",
       "      <th>15260</th>\n",
       "      <td>2018</td>\n",
       "      <td>M51</td>\n",
       "      <td>광주</td>\n",
       "      <td>66171</td>\n",
       "      <td>296063</td>\n",
       "      <td>410139</td>\n",
       "      <td>26533298880</td>\n",
       "      <td>19576340300</td>\n",
       "    </tr>\n",
       "  </tbody>\n",
       "</table>\n",
       "</div>"
      ],
      "text/plain": [
       "       진료년도 주상병코드 시도 구분     환자수  명세서 청구건수    입내원일수      요양급여비용총액       보험자부담금\n",
       "15256  2018   M51    서울  405055   2014737  2274238  124302244910  87928411830\n",
       "15257  2018   M51    부산  136177    703310   853286   49253687170  35530141100\n",
       "15258  2018   M51    인천  125169    648994   778332   43590701320  31219070800\n",
       "15259  2018   M51    대구  110562    502747   578597   34858401620  24695342440\n",
       "15260  2018   M51    광주   66171    296063   410139   26533298880  19576340300"
      ]
     },
     "execution_count": 6,
     "metadata": {},
     "output_type": "execute_result"
    }
   ],
   "source": [
    "lb.head()"
   ]
  },
  {
   "cell_type": "code",
   "execution_count": null,
   "metadata": {},
   "outputs": [],
   "source": []
  }
 ],
 "metadata": {
  "kernelspec": {
   "display_name": "Python 3.9.12 ('base')",
   "language": "python",
   "name": "python3"
  },
  "language_info": {
   "codemirror_mode": {
    "name": "ipython",
    "version": 3
   },
   "file_extension": ".py",
   "mimetype": "text/x-python",
   "name": "python",
   "nbconvert_exporter": "python",
   "pygments_lexer": "ipython3",
   "version": "3.9.12"
  },
  "orig_nbformat": 4,
  "vscode": {
   "interpreter": {
    "hash": "ad2bdc8ecc057115af97d19610ffacc2b4e99fae6737bb82f5d7fb13d2f2c186"
   }
  }
 },
 "nbformat": 4,
 "nbformat_minor": 2
}
