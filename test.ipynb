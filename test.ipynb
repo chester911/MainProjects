{
 "cells": [
  {
   "cell_type": "code",
   "execution_count": null,
   "metadata": {},
   "outputs": [],
   "source": []
  }
 ],
 "metadata": {
  "kernelspec": {
   "display_name": "Python 3.10.7 64-bit",
   "language": "python",
   "name": "python3"
  },
  "language_info": {
   "name": "python",
   "version": "3.10.7"
  },
  "orig_nbformat": 4,
  "vscode": {
   "interpreter": {
    "hash": "568d99031516cb91b124139a50c43e0e628ee43803acee1edec6cbd47ca74668"
   }
  }
 },
 "nbformat": 4,
 "nbformat_minor": 2
}
